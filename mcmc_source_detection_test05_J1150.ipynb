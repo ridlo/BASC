{
 "cells": [
  {
   "cell_type": "markdown",
   "metadata": {},
   "source": [
    "# Test on point source\n",
    "\n",
    "- CLEANed image\n",
    "- iteration did not stop after ~ 30 minutes"
   ]
  },
  {
   "cell_type": "code",
   "execution_count": 1,
   "metadata": {},
   "outputs": [
    {
     "name": "stderr",
     "output_type": "stream",
     "text": [
      "/scratch/home/rwibowo/anaconda3/lib/python3.6/site-packages/matplotlib/cbook/deprecation.py:107: MatplotlibDeprecationWarning: The mpl_toolkits.axes_grid module was deprecated in version 2.1. Use mpl_toolkits.axes_grid1 and mpl_toolkits.axisartist provies the same functionality instead.\n",
      "  warnings.warn(message, mplDeprecation, stacklevel=1)\n"
     ]
    }
   ],
   "source": [
    "import basc\n",
    "\n",
    "import astropy\n",
    "from astropy.table import Table\n",
    "from astropy.io import fits\n",
    "\n",
    "# silent Warning, when open image using aplpy\n",
    "import warnings\n",
    "from astropy.utils.exceptions import AstropyWarning \n",
    "warnings.simplefilter('ignore', category=AstropyWarning)\n",
    "\n",
    "import matplotlib\n",
    "import matplotlib.pyplot as plt\n",
    "\n",
    "import aplpy\n",
    "\n",
    "basc.readConfig(\"config.txt\")\n",
    "\n",
    "%matplotlib inline"
   ]
  },
  {
   "cell_type": "code",
   "execution_count": 2,
   "metadata": {},
   "outputs": [],
   "source": [
    "# Generate a view objecct to work with\n",
    "newView = basc.view()"
   ]
  },
  {
   "cell_type": "code",
   "execution_count": 3,
   "metadata": {},
   "outputs": [],
   "source": [
    "image_file = 'uid___A002_Xbd203b_X1d77.ms.split.cal-CALIBRATE_PHASE-J1150+2417.ms.cont4.image.fits'\n",
    "psf_file   = 'uid___A002_Xbd203b_X1d77.ms.split.cal-CALIBRATE_PHASE-J1150+2417.ms.cont4.psf.fits'\n",
    "flux_file  = 'uid___A002_Xbd203b_X1d77.ms.split.cal-CALIBRATE_PHASE-J1150+2417.ms.cont4.flux.fits'"
   ]
  },
  {
   "cell_type": "code",
   "execution_count": 4,
   "metadata": {},
   "outputs": [],
   "source": [
    "# Load in the fits files\n",
    "newView.loadMap(image_file)\n",
    "newView.loadBeam(psf_file)\n",
    "newView.loadPBCor(flux_file)"
   ]
  },
  {
   "cell_type": "code",
   "execution_count": null,
   "metadata": {},
   "outputs": [],
   "source": [
    "# Run the MCMC process\n",
    "newView.run()\n",
    "result = newView.getChain()"
   ]
  },
  {
   "cell_type": "code",
   "execution_count": null,
   "metadata": {},
   "outputs": [],
   "source": [
    "print(\"Evidence: {}\".format(newView.getEvidence()))\n",
    "print(\"RMS residual: {}\".format(newView.getRMS()))\n",
    "\n",
    "result.write(\"chain.txt\", format=\"ascii\", overwrite=True)\n",
    "print(\"Models written to chain.txt\")\n",
    "\n",
    "print(\"Sources detected:\")\n",
    "print(newView.clusters(eps=3)[0])"
   ]
  },
  {
   "cell_type": "code",
   "execution_count": null,
   "metadata": {},
   "outputs": [],
   "source": [
    "fits.info(image_file)"
   ]
  },
  {
   "cell_type": "code",
   "execution_count": null,
   "metadata": {},
   "outputs": [],
   "source": [
    "image_data = fits.getdata(image_file)\n",
    "psf_data = fits.getdata(psf_file)\n",
    "flux_data = fits.getdata(flux_file)"
   ]
  },
  {
   "cell_type": "code",
   "execution_count": null,
   "metadata": {},
   "outputs": [],
   "source": [
    "image_data.shape"
   ]
  },
  {
   "cell_type": "code",
   "execution_count": null,
   "metadata": {},
   "outputs": [],
   "source": [
    "image_data[0][0].shape"
   ]
  },
  {
   "cell_type": "code",
   "execution_count": null,
   "metadata": {},
   "outputs": [],
   "source": [
    "plt.figure(figsize=(15, 5))\n",
    "plt.subplot(131)\n",
    "plt.imshow(image_data[0][0], cmap='gray')\n",
    "\n",
    "plt.subplot(132)\n",
    "plt.imshow(psf_data[0][0], cmap='gray')\n",
    "\n",
    "plt.subplot(133)\n",
    "plt.imshow(flux_data[0][0], cmap='gray')"
   ]
  },
  {
   "cell_type": "code",
   "execution_count": null,
   "metadata": {},
   "outputs": [],
   "source": [
    "histogram = plt.hist(image_data[0][0].flatten(), 1000)"
   ]
  },
  {
   "cell_type": "code",
   "execution_count": null,
   "metadata": {},
   "outputs": [],
   "source": [
    "image = aplpy.FITSFigure(image_file)\n",
    "image.show_colorscale()\n",
    "image.show_colorbar()\n",
    "#image.show_contour()"
   ]
  },
  {
   "cell_type": "code",
   "execution_count": null,
   "metadata": {},
   "outputs": [],
   "source": [
    "psf = aplpy.FITSFigure(psf_file)\n",
    "psf.show_grayscale()\n",
    "psf.show_colorbar()\n",
    "#psf.show_contour()"
   ]
  },
  {
   "cell_type": "code",
   "execution_count": null,
   "metadata": {},
   "outputs": [],
   "source": [
    "newView.clusters()"
   ]
  },
  {
   "cell_type": "code",
   "execution_count": null,
   "metadata": {},
   "outputs": [],
   "source": [
    "result"
   ]
  },
  {
   "cell_type": "code",
   "execution_count": null,
   "metadata": {},
   "outputs": [],
   "source": [
    "newView.getRMS()"
   ]
  },
  {
   "cell_type": "code",
   "execution_count": null,
   "metadata": {},
   "outputs": [],
   "source": [
    "newView.getEvidence()"
   ]
  },
  {
   "cell_type": "code",
   "execution_count": null,
   "metadata": {},
   "outputs": [],
   "source": [
    "newView.resid"
   ]
  },
  {
   "cell_type": "code",
   "execution_count": null,
   "metadata": {},
   "outputs": [],
   "source": [
    "newView.resid.shape"
   ]
  },
  {
   "cell_type": "code",
   "execution_count": null,
   "metadata": {},
   "outputs": [],
   "source": [
    "# RMS: 0.00086699493113"
   ]
  },
  {
   "cell_type": "code",
   "execution_count": null,
   "metadata": {},
   "outputs": [],
   "source": []
  }
 ],
 "metadata": {
  "kernelspec": {
   "display_name": "Python 3",
   "language": "python",
   "name": "python3"
  },
  "language_info": {
   "codemirror_mode": {
    "name": "ipython",
    "version": 3
   },
   "file_extension": ".py",
   "mimetype": "text/x-python",
   "name": "python",
   "nbconvert_exporter": "python",
   "pygments_lexer": "ipython3",
   "version": "3.6.5"
  }
 },
 "nbformat": 4,
 "nbformat_minor": 2
}
